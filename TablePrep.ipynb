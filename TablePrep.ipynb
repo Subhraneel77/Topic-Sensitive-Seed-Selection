{
  "nbformat": 4,
  "nbformat_minor": 0,
  "metadata": {
    "colab": {
      "provenance": []
    },
    "kernelspec": {
      "name": "python3",
      "display_name": "Python 3"
    },
    "language_info": {
      "name": "python"
    }
  },
  "cells": [
    {
      "cell_type": "code",
      "source": [
        "import pandas as pd\n",
        "import numpy as np\n",
        "\n",
        "# Make numpy values easier to read.\n",
        "np.set_printoptions(precision=3, suppress=True)\n",
        "\n",
        "import tensorflow as tf\n",
        "from tensorflow.keras import layers"
      ],
      "metadata": {
        "id": "mMY-ZQHuyEL1"
      },
      "execution_count": 2,
      "outputs": []
    },
    {
      "cell_type": "code",
      "source": [
        "abalone_train = pd.read_csv(\n",
        "    \"/content/Intermediate Action Log Short.csv\",\n",
        "    names=[\"INDEX\", \"PRODUCTS\", \"FROM NODE\", \"TO NODE\", \"TOPIC CATEGORY\",\n",
        "           \"TOPIC'S SUB-CATEGORY\"])\n",
        "\n",
        "abalone_train.head()"
      ],
      "metadata": {
        "colab": {
          "base_uri": "https://localhost:8080/",
          "height": 204
        },
        "id": "GWiBzai_ySoU",
        "outputId": "e65b4e67-d3db-432a-e306-fd7978d95d06"
      },
      "execution_count": 3,
      "outputs": [
        {
          "output_type": "execute_result",
          "data": {
            "text/plain": [
              "   INDEX  PRODUCTS  FROM NODE  TO NODE  TOPIC CATEGORY  TOPIC'S SUB-CATEGORY\n",
              "0      0         1        NaN      NaN             NaN                   NaN\n",
              "1      0         2        NaN      NaN             NaN                   NaN\n",
              "2      0         3        NaN      NaN             NaN                   NaN\n",
              "3      0         4        NaN      NaN             NaN                   NaN\n",
              "4      0         5        NaN      NaN             NaN                   NaN"
            ],
            "text/html": [
              "\n",
              "  <div id=\"df-8d55ded1-1a9d-4e55-a92e-7a77d4091fc8\">\n",
              "    <div class=\"colab-df-container\">\n",
              "      <div>\n",
              "<style scoped>\n",
              "    .dataframe tbody tr th:only-of-type {\n",
              "        vertical-align: middle;\n",
              "    }\n",
              "\n",
              "    .dataframe tbody tr th {\n",
              "        vertical-align: top;\n",
              "    }\n",
              "\n",
              "    .dataframe thead th {\n",
              "        text-align: right;\n",
              "    }\n",
              "</style>\n",
              "<table border=\"1\" class=\"dataframe\">\n",
              "  <thead>\n",
              "    <tr style=\"text-align: right;\">\n",
              "      <th></th>\n",
              "      <th>INDEX</th>\n",
              "      <th>PRODUCTS</th>\n",
              "      <th>FROM NODE</th>\n",
              "      <th>TO NODE</th>\n",
              "      <th>TOPIC CATEGORY</th>\n",
              "      <th>TOPIC'S SUB-CATEGORY</th>\n",
              "    </tr>\n",
              "  </thead>\n",
              "  <tbody>\n",
              "    <tr>\n",
              "      <th>0</th>\n",
              "      <td>0</td>\n",
              "      <td>1</td>\n",
              "      <td>NaN</td>\n",
              "      <td>NaN</td>\n",
              "      <td>NaN</td>\n",
              "      <td>NaN</td>\n",
              "    </tr>\n",
              "    <tr>\n",
              "      <th>1</th>\n",
              "      <td>0</td>\n",
              "      <td>2</td>\n",
              "      <td>NaN</td>\n",
              "      <td>NaN</td>\n",
              "      <td>NaN</td>\n",
              "      <td>NaN</td>\n",
              "    </tr>\n",
              "    <tr>\n",
              "      <th>2</th>\n",
              "      <td>0</td>\n",
              "      <td>3</td>\n",
              "      <td>NaN</td>\n",
              "      <td>NaN</td>\n",
              "      <td>NaN</td>\n",
              "      <td>NaN</td>\n",
              "    </tr>\n",
              "    <tr>\n",
              "      <th>3</th>\n",
              "      <td>0</td>\n",
              "      <td>4</td>\n",
              "      <td>NaN</td>\n",
              "      <td>NaN</td>\n",
              "      <td>NaN</td>\n",
              "      <td>NaN</td>\n",
              "    </tr>\n",
              "    <tr>\n",
              "      <th>4</th>\n",
              "      <td>0</td>\n",
              "      <td>5</td>\n",
              "      <td>NaN</td>\n",
              "      <td>NaN</td>\n",
              "      <td>NaN</td>\n",
              "      <td>NaN</td>\n",
              "    </tr>\n",
              "  </tbody>\n",
              "</table>\n",
              "</div>\n",
              "      <button class=\"colab-df-convert\" onclick=\"convertToInteractive('df-8d55ded1-1a9d-4e55-a92e-7a77d4091fc8')\"\n",
              "              title=\"Convert this dataframe to an interactive table.\"\n",
              "              style=\"display:none;\">\n",
              "        \n",
              "  <svg xmlns=\"http://www.w3.org/2000/svg\" height=\"24px\"viewBox=\"0 0 24 24\"\n",
              "       width=\"24px\">\n",
              "    <path d=\"M0 0h24v24H0V0z\" fill=\"none\"/>\n",
              "    <path d=\"M18.56 5.44l.94 2.06.94-2.06 2.06-.94-2.06-.94-.94-2.06-.94 2.06-2.06.94zm-11 1L8.5 8.5l.94-2.06 2.06-.94-2.06-.94L8.5 2.5l-.94 2.06-2.06.94zm10 10l.94 2.06.94-2.06 2.06-.94-2.06-.94-.94-2.06-.94 2.06-2.06.94z\"/><path d=\"M17.41 7.96l-1.37-1.37c-.4-.4-.92-.59-1.43-.59-.52 0-1.04.2-1.43.59L10.3 9.45l-7.72 7.72c-.78.78-.78 2.05 0 2.83L4 21.41c.39.39.9.59 1.41.59.51 0 1.02-.2 1.41-.59l7.78-7.78 2.81-2.81c.8-.78.8-2.07 0-2.86zM5.41 20L4 18.59l7.72-7.72 1.47 1.35L5.41 20z\"/>\n",
              "  </svg>\n",
              "      </button>\n",
              "      \n",
              "  <style>\n",
              "    .colab-df-container {\n",
              "      display:flex;\n",
              "      flex-wrap:wrap;\n",
              "      gap: 12px;\n",
              "    }\n",
              "\n",
              "    .colab-df-convert {\n",
              "      background-color: #E8F0FE;\n",
              "      border: none;\n",
              "      border-radius: 50%;\n",
              "      cursor: pointer;\n",
              "      display: none;\n",
              "      fill: #1967D2;\n",
              "      height: 32px;\n",
              "      padding: 0 0 0 0;\n",
              "      width: 32px;\n",
              "    }\n",
              "\n",
              "    .colab-df-convert:hover {\n",
              "      background-color: #E2EBFA;\n",
              "      box-shadow: 0px 1px 2px rgba(60, 64, 67, 0.3), 0px 1px 3px 1px rgba(60, 64, 67, 0.15);\n",
              "      fill: #174EA6;\n",
              "    }\n",
              "\n",
              "    [theme=dark] .colab-df-convert {\n",
              "      background-color: #3B4455;\n",
              "      fill: #D2E3FC;\n",
              "    }\n",
              "\n",
              "    [theme=dark] .colab-df-convert:hover {\n",
              "      background-color: #434B5C;\n",
              "      box-shadow: 0px 1px 3px 1px rgba(0, 0, 0, 0.15);\n",
              "      filter: drop-shadow(0px 1px 2px rgba(0, 0, 0, 0.3));\n",
              "      fill: #FFFFFF;\n",
              "    }\n",
              "  </style>\n",
              "\n",
              "      <script>\n",
              "        const buttonEl =\n",
              "          document.querySelector('#df-8d55ded1-1a9d-4e55-a92e-7a77d4091fc8 button.colab-df-convert');\n",
              "        buttonEl.style.display =\n",
              "          google.colab.kernel.accessAllowed ? 'block' : 'none';\n",
              "\n",
              "        async function convertToInteractive(key) {\n",
              "          const element = document.querySelector('#df-8d55ded1-1a9d-4e55-a92e-7a77d4091fc8');\n",
              "          const dataTable =\n",
              "            await google.colab.kernel.invokeFunction('convertToInteractive',\n",
              "                                                     [key], {});\n",
              "          if (!dataTable) return;\n",
              "\n",
              "          const docLinkHtml = 'Like what you see? Visit the ' +\n",
              "            '<a target=\"_blank\" href=https://colab.research.google.com/notebooks/data_table.ipynb>data table notebook</a>'\n",
              "            + ' to learn more about interactive tables.';\n",
              "          element.innerHTML = '';\n",
              "          dataTable['output_type'] = 'display_data';\n",
              "          await google.colab.output.renderOutput(dataTable, element);\n",
              "          const docLink = document.createElement('div');\n",
              "          docLink.innerHTML = docLinkHtml;\n",
              "          element.appendChild(docLink);\n",
              "        }\n",
              "      </script>\n",
              "    </div>\n",
              "  </div>\n",
              "  "
            ]
          },
          "metadata": {},
          "execution_count": 3
        }
      ]
    },
    {
      "cell_type": "code",
      "source": [
        "abalone_features = abalone_train.copy()\n",
        "abalone_labels = abalone_features.pop('FROM NODE')"
      ],
      "metadata": {
        "id": "4x7XJXxhyZ-a"
      },
      "execution_count": 4,
      "outputs": []
    },
    {
      "cell_type": "code",
      "source": [
        "abalone_features = np.array(abalone_features)\n",
        "abalone_features"
      ],
      "metadata": {
        "colab": {
          "base_uri": "https://localhost:8080/"
        },
        "id": "PFQAiOhLyc1q",
        "outputId": "f7bd60e0-ec81-4ade-8223-ea1499dc1cdc"
      },
      "execution_count": 5,
      "outputs": [
        {
          "output_type": "execute_result",
          "data": {
            "text/plain": [
              "array([[  0.,   1.,  nan,  nan,  nan],\n",
              "       [  0.,   2.,  nan,  nan,  nan],\n",
              "       [  0.,   3.,  nan,  nan,  nan],\n",
              "       ...,\n",
              "       [ 70., 102.,  nan,  nan,  nan],\n",
              "       [ 70., 103.,  nan,  nan,  nan],\n",
              "       [ 70., 421.,  nan,  nan,  nan]])"
            ]
          },
          "metadata": {},
          "execution_count": 5
        }
      ]
    },
    {
      "cell_type": "code",
      "source": [
        "# Create a symbolic input\n",
        "input = tf.keras.Input(shape=(), dtype=tf.float32)\n",
        "\n",
        "# Perform a calculation using the input\n",
        "result = 2*input + 1\n",
        "\n",
        "# the result doesn't have a value\n",
        "result"
      ],
      "metadata": {
        "colab": {
          "base_uri": "https://localhost:8080/"
        },
        "id": "Yv5Ug_ecyfhl",
        "outputId": "2dcbb046-5552-4d62-f4a3-0f87aec52e2b"
      },
      "execution_count": 6,
      "outputs": [
        {
          "output_type": "execute_result",
          "data": {
            "text/plain": [
              "<KerasTensor: shape=(None,) dtype=float32 (created by layer 'tf.__operators__.add')>"
            ]
          },
          "metadata": {},
          "execution_count": 6
        }
      ]
    },
    {
      "cell_type": "code",
      "source": [
        "calc = tf.keras.Model(inputs=input, outputs=result)"
      ],
      "metadata": {
        "id": "SMiIuwvEyjqJ"
      },
      "execution_count": 7,
      "outputs": []
    },
    {
      "cell_type": "code",
      "source": [
        "print(calc(1).numpy())\n",
        "print(calc(2).numpy())"
      ],
      "metadata": {
        "colab": {
          "base_uri": "https://localhost:8080/"
        },
        "id": "IMKcwuErymiB",
        "outputId": "799ae4d0-f898-463c-a94c-4a5dc2fda778"
      },
      "execution_count": 8,
      "outputs": [
        {
          "output_type": "stream",
          "name": "stdout",
          "text": [
            "3.0\n",
            "5.0\n"
          ]
        }
      ]
    },
    {
      "cell_type": "code",
      "source": [
        "import matplotlib.pyplot as plt\n",
        "import csv\n",
        "\n",
        "x = []\n",
        "y = []\n",
        "\n",
        "with open('/content/Intermediate Action Log Short.csv','r') as csvfile:\n",
        "    plots = csv.reader(csvfile, delimiter=',')\n",
        "    for row in plots:\n",
        "        x.append(int(row[1]))\n",
        "        y.append(int(row[0]))\n",
        "\n",
        "plt.plot(x,y, label='Loaded from file!')\n",
        "plt.xlabel('x')\n",
        "plt.ylabel('y')\n",
        "plt.title('Interesting Graph\\nCheck it out')\n",
        "plt.legend()\n",
        "plt.show()"
      ],
      "metadata": {
        "colab": {
          "base_uri": "https://localhost:8080/",
          "height": 310
        },
        "id": "gzzjhlyjyo-h",
        "outputId": "eb2b6f0b-422a-48dc-9b28-1d7299f4aca4"
      },
      "execution_count": 9,
      "outputs": [
        {
          "output_type": "display_data",
          "data": {
            "text/plain": [
              "<Figure size 432x288 with 1 Axes>"
            ],
            "image/png": "[encoded data removed]"
          },
          "metadata": {
            "needs_background": "light"
          }
        }
      ]
    },
    {
      "cell_type": "code",
      "source": [
        "import matplotlib.pyplot as plt\n",
        "import csv\n",
        "  \n",
        "x = []\n",
        "y = []\n",
        "  \n",
        "with open('/content/Intermediate Action Log Short.csv','r') as csvfile:\n",
        "    plots = csv.reader(csvfile, delimiter = ',')\n",
        "      \n",
        "    for row in plots:\n",
        "        x.append(row[0])\n",
        "        y.append(int(row[1]))\n",
        "  \n",
        "plt.bar(x, y, color = 'g', width = 0.72, label = \"To Node\")\n",
        "plt.xlabel('From Node')\n",
        "plt.ylabel('To Node')\n",
        "plt.title('Nodes')\n",
        "plt.legend()\n",
        "plt.show()"
      ],
      "metadata": {
        "colab": {
          "base_uri": "https://localhost:8080/",
          "height": 295
        },
        "id": "U2qwBoovyr8I",
        "outputId": "104cda8c-31e9-4fbb-c20d-d115965820bb"
      },
      "execution_count": 10,
      "outputs": [
        {
          "output_type": "display_data",
          "data": {
            "text/plain": [
              "<Figure size 432x288 with 1 Axes>"
            ],
            "image/png": "[encoded data removed]"
          },
          "metadata": {
            "needs_background": "light"
          }
        }
      ]
    },
    {
      "cell_type": "code",
      "source": [
        "import matplotlib.pyplot as plt\n",
        "import csv\n",
        "  \n",
        "x = []\n",
        "y = []\n",
        "  \n",
        "with open('/content/Intermediate Action Log Short.csv','r') as csvfile:\n",
        "    lines = csv.reader(csvfile, delimiter=',')\n",
        "    for row in lines:\n",
        "        x.append(row[0])\n",
        "        y.append(int(row[1]))\n",
        "  \n",
        "plt.plot(x, y, color = 'g', linestyle = 'dashed',\n",
        "         marker = 'o',label = \"Node\")\n",
        "  \n",
        "plt.xticks(rotation = 25)\n",
        "plt.xlabel('From Node')\n",
        "plt.ylabel('To Node')\n",
        "plt.title('Node', fontsize = 20)\n",
        "plt.grid()\n",
        "plt.legend()\n",
        "plt.show()"
      ],
      "metadata": {
        "colab": {
          "base_uri": "https://localhost:8080/",
          "height": 305
        },
        "id": "jO5geoPGyvHx",
        "outputId": "0b088e70-0b70-4daf-a3b1-fed3cbc07d15"
      },
      "execution_count": 11,
      "outputs": [
        {
          "output_type": "display_data",
          "data": {
            "text/plain": [
              "<Figure size 432x288 with 1 Axes>"
            ],
            "image/png": "[encoded data removed]"
          },
          "metadata": {
            "needs_background": "light"
          }
        }
      ]
    },
    {
      "cell_type": "code",
      "source": [
        "#import necessary modules\n",
        "import csv\n",
        "with open('/content/Intermediate Action Log Short.csv','rt')as f:\n",
        "  data = csv.reader(f)\n",
        "  for row in data:\n",
        "        print(row)"
      ],
      "metadata": {
        "colab": {
          "base_uri": "https://localhost:8080/"
        },
        "id": "dV2fa-Ojyzxb",
        "outputId": "816c1e74-c95f-4b77-9696-60d02abbdab0"
      },
      "execution_count": 12,
      "outputs": [
        {
          "output_type": "stream",
          "name": "stdout",
          "text": [
            "['0', '1']\n",
            "['0', '2']\n",
            "['0', '3']\n",
            "['0', '4']\n",
            "['0', '5']\n",
            "['1', '0']\n",
            "['1', '2']\n",
            "['1', '4']\n",
            "['1', '5']\n",
            "['1', '15']\n",
            "['2', '0']\n",
            "['2', '11']\n",
            "['2', '12']\n",
            "['2', '13']\n",
            "['2', '14']\n",
            "['3', '63']\n",
            "['3', '64']\n",
            "['3', '65']\n",
            "['3', '66']\n",
            "['3', '67']\n",
            "['4', '7']\n",
            "['4', '16']\n",
            "['4', '17']\n",
            "['4', '18']\n",
            "['4', '19']\n",
            "['5', '6']\n",
            "['5', '7']\n",
            "['5', '8']\n",
            "['5', '9']\n",
            "['5', '10']\n",
            "['6', '5']\n",
            "['6', '7']\n",
            "['6', '8']\n",
            "['6', '9']\n",
            "['6', '20']\n",
            "['7', '5']\n",
            "['7', '8']\n",
            "['7', '9']\n",
            "['7', '30']\n",
            "['7', '290']\n",
            "['8', '13']\n",
            "['8', '21']\n",
            "['8', '22']\n",
            "['8', '23']\n",
            "['8', '24']\n",
            "['10', '5']\n",
            "['10', '7']\n",
            "['10', '137']\n",
            "['10', '138']\n",
            "['10', '139']\n",
            "['11', '6']\n",
            "['11', '9']\n",
            "['11', '20']\n",
            "['11', '25']\n",
            "['11', '26']\n",
            "['12', '260']\n",
            "['12', '261']\n",
            "['12', '262']\n",
            "['12', '263']\n",
            "['12', '264']\n",
            "['13', '20']\n",
            "['13', '21']\n",
            "['13', '23']\n",
            "['13', '140']\n",
            "['13', '141']\n",
            "['14', '13']\n",
            "['14', '21']\n",
            "['14', '27']\n",
            "['14', '28']\n",
            "['14', '29']\n",
            "['15', '68']\n",
            "['15', '69']\n",
            "['15', '70']\n",
            "['15', '71']\n",
            "['15', '72']\n",
            "['16', '4']\n",
            "['16', '7']\n",
            "['16', '19']\n",
            "['16', '73']\n",
            "['16', '75']\n",
            "['17', '6']\n",
            "['17', '7']\n",
            "['17', '8']\n",
            "['17', '30']\n",
            "['17', '31']\n",
            "['18', '32']\n",
            "['18', '33']\n",
            "['18', '34']\n",
            "['18', '35']\n",
            "['18', '36']\n",
            "['19', '4']\n",
            "['19', '16']\n",
            "['19', '73']\n",
            "['19', '74']\n",
            "['19', '75']\n",
            "['20', '6']\n",
            "['20', '7']\n",
            "['20', '8']\n",
            "['20', '23']\n",
            "['20', '30']\n",
            "['21', '13']\n",
            "['21', '23']\n",
            "['21', '28']\n",
            "['21', '77']\n",
            "['21', '164']\n",
            "['22', '8']\n",
            "['22', '23']\n",
            "['22', '37']\n",
            "['22', '38']\n",
            "['22', '39']\n",
            "['23', '8']\n",
            "['23', '13']\n",
            "['23', '20']\n",
            "['23', '111']\n",
            "['23', '142']\n",
            "['24', '40']\n",
            "['24', '41']\n",
            "['24', '42']\n",
            "['24', '43']\n",
            "['24', '44']\n",
            "['25', '11']\n",
            "['25', '45']\n",
            "['25', '46']\n",
            "['25', '47']\n",
            "['26', '11']\n",
            "['26', '265']\n",
            "['26', '266']\n",
            "['26', '267']\n",
            "['26', '268']\n",
            "['27', '13']\n",
            "['27', '21']\n",
            "['27', '76']\n",
            "['27', '77']\n",
            "['27', '78']\n",
            "['28', '20']\n",
            "['28', '79']\n",
            "['28', '80']\n",
            "['28', '81']\n",
            "['28', '82']\n",
            "['29', '143']\n",
            "['29', '144']\n",
            "['29', '145']\n",
            "['29', '146']\n",
            "['29', '147']\n",
            "['30', '8']\n",
            "['30', '9']\n",
            "['30', '48']\n",
            "['30', '49']\n",
            "['30', '50']\n",
            "['31', '9']\n",
            "['31', '17']\n",
            "['31', '83']\n",
            "['31', '84']\n",
            "['31', '85']\n",
            "['32', '18']\n",
            "['32', '51']\n",
            "['32', '148']\n",
            "['32', '149']\n",
            "['32', '150']\n",
            "['33', '56']\n",
            "['33', '93']\n",
            "['33', '94']\n",
            "['33', '95']\n",
            "['33', '151']\n",
            "['34', '18']\n",
            "['34', '32']\n",
            "['34', '51']\n",
            "['34', '52']\n",
            "['34', '53']\n",
            "['35', '18']\n",
            "['35', '33']\n",
            "['35', '54']\n",
            "['35', '55']\n",
            "['35', '56']\n",
            "['36', '18']\n",
            "['36', '152']\n",
            "['36', '153']\n",
            "['36', '154']\n",
            "['36', '155']\n",
            "['37', '8']\n",
            "['37', '22']\n",
            "['37', '23']\n",
            "['37', '97']\n",
            "['37', '269']\n",
            "['38', '22']\n",
            "['38', '270']\n",
            "['38', '271']\n",
            "['38', '272']\n",
            "['38', '273']\n",
            "['39', '22']\n",
            "['39', '37']\n",
            "['39', '38']\n",
            "['39', '86']\n",
            "['39', '87']\n",
            "['40', '8']\n",
            "['40', '24']\n",
            "['40', '41']\n",
            "['40', '42']\n",
            "['40', '43']\n",
            "['41', '24']\n",
            "['41', '40']\n",
            "['41', '42']\n",
            "['41', '43']\n",
            "['41', '44']\n",
            "['42', '8']\n",
            "['42', '24']\n",
            "['42', '40']\n",
            "['42', '41']\n",
            "['42', '43']\n",
            "['43', '24']\n",
            "['43', '40']\n",
            "['43', '41']\n",
            "['43', '42']\n",
            "['43', '44']\n",
            "['44', '24']\n",
            "['44', '40']\n",
            "['44', '41']\n",
            "['44', '42']\n",
            "['44', '43']\n",
            "['45', '11']\n",
            "['45', '25']\n",
            "['45', '46']\n",
            "['45', '59']\n",
            "['45', '88']\n",
            "['46', '11']\n",
            "['46', '25']\n",
            "['46', '45']\n",
            "['46', '59']\n",
            "['46', '88']\n",
            "['47', '11']\n",
            "['47', '25']\n",
            "['47', '57']\n",
            "['47', '58']\n",
            "['47', '59']\n",
            "['48', '30']\n",
            "['48', '49']\n",
            "['48', '156']\n",
            "['48', '157']\n",
            "['48', '158']\n",
            "['49', '30']\n",
            "['49', '48']\n",
            "['49', '156']\n",
            "['49', '157']\n",
            "['49', '158']\n",
            "['50', '9']\n",
            "['50', '30']\n",
            "['50', '49']\n",
            "['50', '89']\n",
            "['50', '90']\n",
            "['51', '18']\n",
            "['51', '32']\n",
            "['51', '34']\n",
            "['51', '154']\n",
            "['51', '274']\n",
            "['52', '34']\n",
            "['52', '275']\n",
            "['52', '276']\n",
            "['52', '277']\n",
            "['52', '278']\n",
            "['53', '35']\n",
            "['53', '54']\n",
            "['53', '60']\n",
            "['53', '61']\n",
            "['53', '62']\n",
            "['54', '35']\n",
            "['54', '53']\n",
            "['54', '60']\n",
            "['54', '84']\n",
            "['54', '159']\n",
            "['55', '35']\n",
            "['55', '53']\n",
            "['55', '54']\n",
            "['55', '91']\n",
            "['55', '92']\n",
            "['56', '33']\n",
            "['56', '93']\n",
            "['56', '94']\n",
            "['56', '95']\n",
            "['56', '96']\n",
            "['57', '11']\n",
            "['57', '25']\n",
            "['57', '47']\n",
            "['57', '59']\n",
            "['57', '88']\n",
            "['58', '11']\n",
            "['58', '25']\n",
            "['58', '45']\n",
            "['58', '47']\n",
            "['58', '59']\n",
            "['59', '11']\n",
            "['59', '25']\n",
            "['59', '45']\n",
            "['59', '46']\n",
            "['59', '88']\n",
            "['60', '53']\n",
            "['60', '54']\n",
            "['60', '159']\n",
            "['60', '160']\n",
            "['60', '161']\n",
            "['61', '35']\n",
            "['61', '53']\n",
            "['61', '159']\n",
            "['61', '162']\n",
            "['61', '163']\n",
            "['62', '35']\n",
            "['62', '53']\n",
            "['62', '54']\n",
            "['62', '60']\n",
            "['62', '159']\n",
            "['63', '30']\n",
            "['63', '64']\n",
            "['63', '97']\n",
            "['63', '98']\n",
            "['63', '99']\n",
            "['64', '63']\n",
            "['64', '66']\n",
            "['64', '98']\n",
            "['64', '279']\n",
            "['64', '280']\n",
            "['65', '63']\n",
            "['65', '66']\n",
            "['65', '99']\n",
            "['65', '100']\n",
            "['65', '101']\n",
            "['66', '63']\n",
            "['66', '64']\n",
            "['66', '65']\n",
            "['66', '418']\n",
            "['66', '419']\n",
            "['67', '30']\n",
            "['67', '63']\n",
            "['67', '98']\n",
            "['67', '118']\n",
            "['67', '281']\n",
            "['69', '15']\n",
            "['69', '72']\n",
            "['69', '105']\n",
            "['69', '106']\n",
            "['69', '420']\n",
            "['70', '15']\n",
            "['70', '71']\n",
            "['70', '102']\n",
            "['70', '103']\n",
            "['70', '421']\n"
          ]
        }
      ]
    },
    {
      "cell_type": "code",
      "source": [
        "data\n"
      ],
      "metadata": {
        "colab": {
          "base_uri": "https://localhost:8080/"
        },
        "id": "A6w3nKXSy4F_",
        "outputId": "766d2b21-3bb7-4e90-8549-4cf08ea04ccc"
      },
      "execution_count": 13,
      "outputs": [
        {
          "output_type": "execute_result",
          "data": {
            "text/plain": [
              "<_csv.reader at 0x7f6036df0b50>"
            ]
          },
          "metadata": {},
          "execution_count": 13
        }
      ]
    },
    {
      "cell_type": "code",
      "execution_count": null,
      "metadata": {
        "colab": {
          "base_uri": "https://localhost:8080/"
        },
        "id": "j6DMT59BjlP2",
        "outputId": "c465ac76-aeb5-42d3-f6e9-4523eb1cb205"
      },
      "outputs": [
        {
          "output_type": "stream",
          "name": "stdout",
          "text": [
            "******Displaying only Specific Column********\n",
            "Topic Category as mentioned below ::--\n",
            "=====================================================\n",
            "0\n",
            "Beauty & Hygiene\n",
            "0\n",
            "Kitchen, Garden & Pets\n",
            "0\n",
            "Cleaning & Household\n",
            "0\n",
            "Cleaning & Household\n",
            "0\n",
            "Beauty & Hygiene\n",
            "1\n",
            "Cleaning & Household\n",
            "1\n",
            "Beauty & Hygiene\n",
            "1\n",
            "Beauty & Hygiene\n",
            "1\n",
            "Beauty & Hygiene\n",
            "1\n",
            "Cleaning & Household\n",
            "2\n",
            "Gourmet & World Food\n",
            "2\n",
            "Gourmet & World Food\n",
            "2\n",
            "Beauty & Hygiene\n",
            "2\n",
            "Cleaning & Household\n",
            "2\n",
            "Cleaning & Household\n",
            "3\n",
            "Cleaning & Household\n",
            "3\n",
            "Beauty & Hygiene\n",
            "3\n",
            "Gourmet & World Food\n",
            "3\n",
            "Gourmet & World Food\n",
            "3\n",
            "Gourmet & World Food\n"
          ]
        }
      ],
      "source": [
        "import csv\n",
        "with open(\"/content/Test3.csv\",newline='') as f:\n",
        "    ereader = csv.DictReader(f)\n",
        "    print(\"******Displaying only Specific Column********\")\n",
        "    print(\"Topic Category as mentioned below ::--\")\n",
        "    print(\"=====================================================\")\n",
        "    for row in ereader:\n",
        "        print(row['From Node'])\n",
        "        print(row['Topic Category'])\n",
        "        "
      ]
    },
    {
      "cell_type": "code",
      "source": [
        "# number of elements\n",
        "n = int(input(\"Enter Number of Elements : \"))\n",
        "\n",
        "# Read input\n",
        "res = list(map(str, input(\"\\nEnter the Numbers : \").strip().split()))[:n]\n",
        "\n",
        "print(res)\n",
        "\n",
        "\n"
      ],
      "metadata": {
        "colab": {
          "base_uri": "https://localhost:8080/"
        },
        "id": "mGWtqjoZkFQb",
        "outputId": "951db43b-3f8b-483e-9dec-1754d977f6c5"
      },
      "execution_count": null,
      "outputs": [
        {
          "output_type": "stream",
          "name": "stdout",
          "text": [
            "Enter Number of Elements : 4\n",
            "\n",
            "Enter the Numbers : Node0 Node1 Node2 Node3\n",
            "['Node0', 'Node1', 'Node2', 'Node3']\n"
          ]
        }
      ]
    },
    {
      "cell_type": "code",
      "source": [
        "import pandas as pd\n",
        "df = pd.read_csv('/content/Test3.csv', index_col=0)\n",
        "\n",
        "for val in df:\n",
        "    print(val)"
      ],
      "metadata": {
        "colab": {
          "base_uri": "https://localhost:8080/"
        },
        "id": "CHnLrmPpkRx1",
        "outputId": "631975a9-91a6-4a7a-d558-7626edccd49f"
      },
      "execution_count": null,
      "outputs": [
        {
          "output_type": "stream",
          "name": "stdout",
          "text": [
            "Topic Category\n"
          ]
        }
      ]
    },
    {
      "cell_type": "code",
      "source": [
        "for label, row in df.iterrows():\n",
        "    print(label)\n",
        "    print(row)"
      ],
      "metadata": {
        "colab": {
          "base_uri": "https://localhost:8080/"
        },
        "id": "gJbA_MB9kVHa",
        "outputId": "3e377ff2-3134-4cac-cad5-5fa32023c79d"
      },
      "execution_count": null,
      "outputs": [
        {
          "output_type": "stream",
          "name": "stdout",
          "text": [
            "0\n",
            "Topic Category    Beauty & Hygiene\n",
            "Name: 0, dtype: object\n",
            "0\n",
            "Topic Category    Kitchen, Garden & Pets\n",
            "Name: 0, dtype: object\n",
            "0\n",
            "Topic Category    Cleaning & Household\n",
            "Name: 0, dtype: object\n",
            "0\n",
            "Topic Category    Cleaning & Household\n",
            "Name: 0, dtype: object\n",
            "0\n",
            "Topic Category    Beauty & Hygiene\n",
            "Name: 0, dtype: object\n",
            "1\n",
            "Topic Category    Cleaning & Household\n",
            "Name: 1, dtype: object\n",
            "1\n",
            "Topic Category    Beauty & Hygiene\n",
            "Name: 1, dtype: object\n",
            "1\n",
            "Topic Category    Beauty & Hygiene\n",
            "Name: 1, dtype: object\n",
            "1\n",
            "Topic Category    Beauty & Hygiene\n",
            "Name: 1, dtype: object\n",
            "1\n",
            "Topic Category    Cleaning & Household\n",
            "Name: 1, dtype: object\n",
            "2\n",
            "Topic Category    Gourmet & World Food\n",
            "Name: 2, dtype: object\n",
            "2\n",
            "Topic Category    Gourmet & World Food\n",
            "Name: 2, dtype: object\n",
            "2\n",
            "Topic Category    Beauty & Hygiene\n",
            "Name: 2, dtype: object\n",
            "2\n",
            "Topic Category    Cleaning & Household\n",
            "Name: 2, dtype: object\n",
            "2\n",
            "Topic Category    Cleaning & Household\n",
            "Name: 2, dtype: object\n",
            "3\n",
            "Topic Category    Cleaning & Household\n",
            "Name: 3, dtype: object\n",
            "3\n",
            "Topic Category    Beauty & Hygiene\n",
            "Name: 3, dtype: object\n",
            "3\n",
            "Topic Category    Gourmet & World Food\n",
            "Name: 3, dtype: object\n",
            "3\n",
            "Topic Category    Gourmet & World Food\n",
            "Name: 3, dtype: object\n",
            "3\n",
            "Topic Category    Gourmet & World Food\n",
            "Name: 3, dtype: object\n"
          ]
        }
      ]
    },
    {
      "cell_type": "code",
      "source": [
        "import numpy as np\n",
        "import pandas as pd\n",
        " \n",
        "topics1 = ['Topic 1 :- Beauty & Hygiene', 'Topic 2 :- Kitchen, Garden & Pets', 'Topic 3 :- Cleaning & Household', 'Topic 3 :- Cleaning & Household', 'Topic 1 :- Beauty & Hygiene']\n",
        "\n",
        "print (\"Node 0\")\n",
        "pd.value_counts(np.array(topics1))\n"
      ],
      "metadata": {
        "colab": {
          "base_uri": "https://localhost:8080/"
        },
        "id": "RO88p36ykbpr",
        "outputId": "89c1319b-2e09-4e3b-f7d0-ce93599785a7"
      },
      "execution_count": null,
      "outputs": [
        {
          "output_type": "stream",
          "name": "stdout",
          "text": [
            "Node 0\n"
          ]
        },
        {
          "output_type": "execute_result",
          "data": {
            "text/plain": [
              "Topic 1 :- Beauty & Hygiene          2\n",
              "Topic 3 :- Cleaning & Household      2\n",
              "Topic 2 :- Kitchen, Garden & Pets    1\n",
              "dtype: int64"
            ]
          },
          "metadata": {},
          "execution_count": 6
        }
      ]
    },
    {
      "cell_type": "code",
      "source": [
        "df1 = pd.value_counts(np.array(topics1))\n",
        "\n",
        "print('Index :', df1.index)\n",
        "print('Array for Node 0 is :' ,df1.values)"
      ],
      "metadata": {
        "colab": {
          "base_uri": "https://localhost:8080/"
        },
        "id": "J9NHTdnDkdoT",
        "outputId": "3d2c9720-4454-4a41-e201-30f13da0f2b2"
      },
      "execution_count": null,
      "outputs": [
        {
          "output_type": "stream",
          "name": "stdout",
          "text": [
            "Index : Index(['Topic 1 :- Beauty & Hygiene', 'Topic 3 :- Cleaning & Household',\n",
            "       'Topic 2 :- Kitchen, Garden & Pets'],\n",
            "      dtype='object')\n",
            "Array for Node 0 is : [2 2 1]\n"
          ]
        }
      ]
    },
    {
      "cell_type": "code",
      "source": [
        "topics2 = ['Topic 3 :- Cleaning & Household', 'Topic 1 :- Beauty & Hygiene','Topic 1 :- Beauty & Hygiene', 'Topic 1 :- Beauty & Hygiene', 'Topic 3 :- Cleaning & Household']\n",
        "print (\"Node 1\")\n",
        "pd.value_counts(np.array(topics2))\n"
      ],
      "metadata": {
        "colab": {
          "base_uri": "https://localhost:8080/"
        },
        "id": "XZXC2DfWkgP8",
        "outputId": "982354b2-edfc-46fe-cde4-3b8b21df4a32"
      },
      "execution_count": null,
      "outputs": [
        {
          "output_type": "stream",
          "name": "stdout",
          "text": [
            "Node 1\n"
          ]
        },
        {
          "output_type": "execute_result",
          "data": {
            "text/plain": [
              "Topic 1 :- Beauty & Hygiene        3\n",
              "Topic 3 :- Cleaning & Household    2\n",
              "dtype: int64"
            ]
          },
          "metadata": {},
          "execution_count": 8
        }
      ]
    },
    {
      "cell_type": "code",
      "source": [
        "df2 = pd.value_counts(np.array(topics2))\n",
        "\n",
        "print('Index :', df2.index)\n",
        "print( 'Array for Node 1 is :',df2.values)"
      ],
      "metadata": {
        "colab": {
          "base_uri": "https://localhost:8080/"
        },
        "id": "bi-kbEKCkheE",
        "outputId": "a08c6635-21fe-48f2-ecb1-4b06af4be6ec"
      },
      "execution_count": null,
      "outputs": [
        {
          "output_type": "stream",
          "name": "stdout",
          "text": [
            "Index : Index(['Topic 1 :- Beauty & Hygiene', 'Topic 3 :- Cleaning & Household'], dtype='object')\n",
            "Array for Node 1 is : [3 2]\n"
          ]
        }
      ]
    },
    {
      "cell_type": "code",
      "source": [
        "topics3 = ['Topic 4 :- Gourment & World Food', 'Topic 4 :- Gourment & World Food','Topic 1 :- Beauty & Hygiene', 'Topic 3 :- Cleaning & Household', 'Topic 3 :- Cleaning & Household']\n",
        "print (\"Node 2\")\n",
        "pd.value_counts(np.array(topics3))"
      ],
      "metadata": {
        "colab": {
          "base_uri": "https://localhost:8080/"
        },
        "id": "_FT6H2mtkkCY",
        "outputId": "503ebdc5-99b7-4c4d-bc18-97e47b47d624"
      },
      "execution_count": null,
      "outputs": [
        {
          "output_type": "stream",
          "name": "stdout",
          "text": [
            "Node 2\n"
          ]
        },
        {
          "output_type": "execute_result",
          "data": {
            "text/plain": [
              "Topic 4 :- Gourment & World Food    2\n",
              "Topic 3 :- Cleaning & Household     2\n",
              "Topic 1 :- Beauty & Hygiene         1\n",
              "dtype: int64"
            ]
          },
          "metadata": {},
          "execution_count": 10
        }
      ]
    },
    {
      "cell_type": "code",
      "source": [
        "df3 = pd.value_counts(np.array(topics3))\n",
        "\n",
        "print('Index :', df3.index)\n",
        "print( 'Array for Node 2 is :',df3.values)"
      ],
      "metadata": {
        "colab": {
          "base_uri": "https://localhost:8080/"
        },
        "id": "QDLQErHUknTy",
        "outputId": "c991320b-0c5c-4b1f-88c1-d748359e8847"
      },
      "execution_count": null,
      "outputs": [
        {
          "output_type": "stream",
          "name": "stdout",
          "text": [
            "Index : Index(['Topic 4 :- Gourment & World Food', 'Topic 3 :- Cleaning & Household',\n",
            "       'Topic 1 :- Beauty & Hygiene'],\n",
            "      dtype='object')\n",
            "Array for Node 2 is : [2 2 1]\n"
          ]
        }
      ]
    },
    {
      "cell_type": "code",
      "source": [
        "topics4 = ['Topic 3 :- Cleaning & Household', 'Topic 1 :- Beauty & Hygiene','Topic 4 :- Gourment & World Food', 'Topic 4 :- Gourment & World Food', 'Topic 4 :- Gourment & World Food']\n",
        "print (\"Node 3\")\n",
        "pd.value_counts(np.array(topics4))"
      ],
      "metadata": {
        "colab": {
          "base_uri": "https://localhost:8080/"
        },
        "id": "1YZ8uPInkpHJ",
        "outputId": "c9018912-0ba3-4370-d091-51ce4390121a"
      },
      "execution_count": null,
      "outputs": [
        {
          "output_type": "stream",
          "name": "stdout",
          "text": [
            "Node 3\n"
          ]
        },
        {
          "output_type": "execute_result",
          "data": {
            "text/plain": [
              "Topic 4 :- Gourment & World Food    3\n",
              "Topic 3 :- Cleaning & Household     1\n",
              "Topic 1 :- Beauty & Hygiene         1\n",
              "dtype: int64"
            ]
          },
          "metadata": {},
          "execution_count": 12
        }
      ]
    },
    {
      "cell_type": "code",
      "source": [
        "df4 = pd.value_counts(np.array(topics4))\n",
        "\n",
        "print('Index :', df4.index)\n",
        "print( 'Array for Node 3 is :',df4.values)"
      ],
      "metadata": {
        "id": "fg9drY8JkrQK",
        "outputId": "f9899cbd-c7cc-40e8-efe1-e4e664337930",
        "colab": {
          "base_uri": "https://localhost:8080/"
        }
      },
      "execution_count": null,
      "outputs": [
        {
          "output_type": "stream",
          "name": "stdout",
          "text": [
            "Index : Index(['Topic 4 :- Gourment & World Food', 'Topic 3 :- Cleaning & Household',\n",
            "       'Topic 1 :- Beauty & Hygiene'],\n",
            "      dtype='object')\n",
            "Array for Node 3 is : [3 1 1]\n"
          ]
        }
      ]
    },
    {
      "cell_type": "code",
      "source": [
        "from prettytable import PrettyTable\n",
        " \n",
        "# Specify the Column Names while initializing the Table\n",
        "myTable = PrettyTable([\"Beauty & Hygiene\", \"Kitchen, Garden & Pets\", \"Cleaning & Household \", \"Gourment & World Food\"]) \n",
        " \n",
        "# Add rows\n",
        "myTable.add_row(['2', '1', '2', '0'])\n",
        "myTable.add_row(['3', '0', '2', '0'])\n",
        "myTable.add_row(['1', '0', '2', '2'])\n",
        "myTable.add_row(['1', '0', '1', '3'])\n",
        "\n",
        " \n",
        "print(myTable)"
      ],
      "metadata": {
        "id": "vYNgrRHkkuqZ",
        "outputId": "23481952-c085-4410-b389-3755877cb1f4",
        "colab": {
          "base_uri": "https://localhost:8080/"
        }
      },
      "execution_count": 14,
      "outputs": [
        {
          "output_type": "stream",
          "name": "stdout",
          "text": [
            "+------------------+------------------------+-----------------------+-----------------------+\n",
            "| Beauty & Hygiene | Kitchen, Garden & Pets | Cleaning & Household  | Gourment & World Food |\n",
            "+------------------+------------------------+-----------------------+-----------------------+\n",
            "|        2         |           1            |           2           |           0           |\n",
            "|        3         |           0            |           2           |           0           |\n",
            "|        1         |           0            |           2           |           2           |\n",
            "|        1         |           0            |           1           |           3           |\n",
            "+------------------+------------------------+-----------------------+-----------------------+\n"
          ]
        }
      ]
    }
  ]
}